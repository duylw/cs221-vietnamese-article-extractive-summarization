{
 "cells": [
  {
   "cell_type": "code",
   "execution_count": 32,
   "id": "80e16bfe",
   "metadata": {},
   "outputs": [],
   "source": [
    "import pandas as pd"
   ]
  },
  {
   "cell_type": "code",
   "execution_count": null,
   "id": "c77a262c",
   "metadata": {},
   "outputs": [],
   "source": [
    "path = 'E:\\SmallProjects\\VietNameseNewspaperSummarization\\data\\nam194___vietnews\\default\\0.0.0\\39e2837bd57c09af5ca6f80a6483d40d904ad1ca\\vietnews-test.arrow'\n",
    "df = pd.read_csv(path, sep='\\t')"
   ]
  }
 ],
 "metadata": {
  "kernelspec": {
   "display_name": "nlp",
   "language": "python",
   "name": "python3"
  },
  "language_info": {
   "codemirror_mode": {
    "name": "ipython",
    "version": 3
   },
   "file_extension": ".py",
   "mimetype": "text/x-python",
   "name": "python",
   "nbconvert_exporter": "python",
   "pygments_lexer": "ipython3",
   "version": "3.12.11"
  }
 },
 "nbformat": 4,
 "nbformat_minor": 5
}
